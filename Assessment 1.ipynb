{
 "cells": [
  {
   "cell_type": "markdown",
   "metadata": {},
   "source": [
    "# Question 1"
   ]
  },
  {
   "cell_type": "code",
   "execution_count": 1,
   "metadata": {},
   "outputs": [
    {
     "name": "stdout",
     "output_type": "stream",
     "text": [
      "Correct English word is RAINBOW\n"
     ]
    }
   ],
   "source": [
    "print(\"Correct English word is RAINBOW\")"
   ]
  },
  {
   "cell_type": "markdown",
   "metadata": {},
   "source": [
    "# Question 2"
   ]
  },
  {
   "cell_type": "code",
   "execution_count": 8,
   "metadata": {},
   "outputs": [
    {
     "name": "stdout",
     "output_type": "stream",
     "text": [
      "Enter the name LETS UPGRADE: LeTs UpGrade\n",
      "LETS UPGRADE\n"
     ]
    }
   ],
   "source": [
    "str1=input(\"Enter the name LETS UPGRADE: \")\n",
    "if any(c.islower() for c in str1):\n",
    "    print(str1.upper())\n",
    "else:\n",
    "    print(str1)"
   ]
  },
  {
   "cell_type": "markdown",
   "metadata": {},
   "source": [
    "# Question 3 "
   ]
  },
  {
   "cell_type": "code",
   "execution_count": 17,
   "metadata": {},
   "outputs": [
    {
     "name": "stdout",
     "output_type": "stream",
     "text": [
      "Enter cost price: 19\n",
      "Enter selling price: 95\n",
      "Profit\n"
     ]
    }
   ],
   "source": [
    "costprice=int(input(\"Enter cost price: \"))\n",
    "sellingprice=int(input(\"Enter selling price: \"))\n",
    "if costprice < sellingprice:\n",
    "    print(\"Profit\")\n",
    "elif costprice > sellingprice:\n",
    "    print(\"Loss\")\n",
    "else:\n",
    "    print(\"Neither\")"
   ]
  },
  {
   "cell_type": "markdown",
   "metadata": {},
   "source": [
    "# Question 4"
   ]
  },
  {
   "cell_type": "code",
   "execution_count": 25,
   "metadata": {},
   "outputs": [
    {
     "name": "stdout",
     "output_type": "stream",
     "text": [
      "Input: 18\n",
      "Output:  1440\n"
     ]
    }
   ],
   "source": [
    "Euro=80 #rupees\n",
    "num1=int(input(\"Input: \"))\n",
    "Rupees=num1*Euro\n",
    "print(\"Output: \",Rupees)"
   ]
  },
  {
   "cell_type": "code",
   "execution_count": null,
   "metadata": {},
   "outputs": [],
   "source": []
  }
 ],
 "metadata": {
  "kernelspec": {
   "display_name": "Python 3",
   "language": "python",
   "name": "python3"
  },
  "language_info": {
   "codemirror_mode": {
    "name": "ipython",
    "version": 3
   },
   "file_extension": ".py",
   "mimetype": "text/x-python",
   "name": "python",
   "nbconvert_exporter": "python",
   "pygments_lexer": "ipython3",
   "version": "3.7.6"
  }
 },
 "nbformat": 4,
 "nbformat_minor": 4
}
