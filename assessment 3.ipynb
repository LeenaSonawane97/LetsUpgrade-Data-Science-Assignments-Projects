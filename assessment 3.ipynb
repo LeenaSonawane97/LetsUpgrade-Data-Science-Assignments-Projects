{
 "cells": [
  {
   "cell_type": "markdown",
   "metadata": {},
   "source": [
    "# Question 1"
   ]
  },
  {
   "cell_type": "code",
   "execution_count": 2,
   "metadata": {},
   "outputs": [
    {
     "data": {
      "text/plain": [
       "array([ 2,  5,  8, 11, 14, 17, 20, 23, 26, 29, 32, 35, 38, 41, 44, 47])"
      ]
     },
     "execution_count": 2,
     "metadata": {},
     "output_type": "execute_result"
    }
   ],
   "source": [
    "import numpy as np\n",
    "np.arange(start=2, stop=50, step=3)"
   ]
  },
  {
   "cell_type": "markdown",
   "metadata": {},
   "source": [
    "# Question 2"
   ]
  },
  {
   "cell_type": "code",
   "execution_count": 11,
   "metadata": {},
   "outputs": [
    {
     "name": "stdout",
     "output_type": "stream",
     "text": [
      "[  3   5  12  13  22  24  30  55  90 132]\n"
     ]
    }
   ],
   "source": [
    "import numpy as np\n",
    "list1=[90,12,3,24,5]\n",
    "list2=[132,22,30,13,55]\n",
    "ary1=np.array(list1)\n",
    "ary2=np.array(list2)\n",
    "ary3=np.concatenate((ary1,ary2), axis=0, out=None)\n",
    "print(np.sort(ary3))"
   ]
  },
  {
   "cell_type": "markdown",
   "metadata": {},
   "source": [
    "# Question 3"
   ]
  },
  {
   "cell_type": "code",
   "execution_count": 12,
   "metadata": {},
   "outputs": [
    {
     "name": "stdout",
     "output_type": "stream",
     "text": [
      "Array is of type:  <class 'numpy.ndarray'>\n",
      "No. of dimensions:  2\n",
      "Size of array:  6\n"
     ]
    }
   ],
   "source": [
    "import numpy as np\n",
    "arr = np.array( [[ 13, 21, 93],\n",
    "                 [ 42, 62, 51]] )\n",
    "print(\"Array is of type: \", type(arr))\n",
    "print(\"No. of dimensions: \", arr.ndim)\n",
    "print(\"Size of array: \", arr.size)"
   ]
  },
  {
   "cell_type": "markdown",
   "metadata": {},
   "source": [
    "# Questions 4"
   ]
  },
  {
   "cell_type": "code",
   "execution_count": 18,
   "metadata": {},
   "outputs": [
    {
     "name": "stdout",
     "output_type": "stream",
     "text": [
      "(3,)\n",
      "[[13]\n",
      " [21]\n",
      " [93]]\n",
      "(3, 1)\n"
     ]
    }
   ],
   "source": [
    "import numpy as np\n",
    "ary = np.array([ 13, 21, 93])\n",
    "print(ary.shape)\n",
    "ary2 = ary[:,np.newaxis]\n",
    "print(ary2)\n",
    "print(ary2.shape)"
   ]
  },
  {
   "cell_type": "markdown",
   "metadata": {},
   "source": [
    "# Question 5"
   ]
  },
  {
   "cell_type": "code",
   "execution_count": 23,
   "metadata": {},
   "outputs": [
    {
     "name": "stdout",
     "output_type": "stream",
     "text": [
      "Vertical stack:\n",
      " [[112  22]\n",
      " [ 31  14]\n",
      " [ 51  66]\n",
      " [ 71  18]]\n",
      "\n",
      "Horizontal stack:\n",
      " [[112  22  51  66]\n",
      " [ 31  14  71  18]]\n"
     ]
    }
   ],
   "source": [
    "import numpy as np \n",
    "  \n",
    "a = np.array([[112, 22], \n",
    "              [31, 14]]) \n",
    "b = np.array([[51, 66], \n",
    "              [71, 18]]) \n",
    "# vertical stack \n",
    "print(\"Vertical stack:\\n\", np.vstack((a, b))) \n",
    "  \n",
    "# horizontal stack\n",
    "print(\"\\nHorizontal stack:\\n\", np.hstack((a, b))) "
   ]
  },
  {
   "cell_type": "markdown",
   "metadata": {},
   "source": [
    "# Question 6"
   ]
  },
  {
   "cell_type": "code",
   "execution_count": 31,
   "metadata": {},
   "outputs": [
    {
     "name": "stdout",
     "output_type": "stream",
     "text": [
      "array of unique numbers is: [1 2 3 4] and count of each element is:  [3 1 1 2] respectively\n"
     ]
    }
   ],
   "source": [
    "import numpy as np \n",
    "list1 = np.array([1, 1, 2, 3, 4, 4, 1])\n",
    "(unique, counts) = np.unique(list1, return_counts=True)\n",
    "print(\"array of unique numbers is:\",unique,\"and count of each element is: \", counts,\"respectively\")"
   ]
  },
  {
   "cell_type": "code",
   "execution_count": null,
   "metadata": {},
   "outputs": [],
   "source": []
  }
 ],
 "metadata": {
  "kernelspec": {
   "display_name": "Python 3",
   "language": "python",
   "name": "python3"
  },
  "language_info": {
   "codemirror_mode": {
    "name": "ipython",
    "version": 3
   },
   "file_extension": ".py",
   "mimetype": "text/x-python",
   "name": "python",
   "nbconvert_exporter": "python",
   "pygments_lexer": "ipython3",
   "version": "3.7.6"
  }
 },
 "nbformat": 4,
 "nbformat_minor": 4
}
