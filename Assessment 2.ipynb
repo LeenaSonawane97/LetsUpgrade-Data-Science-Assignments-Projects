{
 "cells": [
  {
   "cell_type": "markdown",
   "metadata": {},
   "source": [
    "# Question 1"
   ]
  },
  {
   "cell_type": "code",
   "execution_count": 2,
   "metadata": {},
   "outputs": [
    {
     "name": "stdout",
     "output_type": "stream",
     "text": [
      "Enter 10 numbers: \n",
      "2\n",
      "3\n",
      "4\n",
      "5\n",
      "6\n",
      "7\n",
      "89\n",
      "10\n",
      "12\n",
      "123\n",
      "[2, 4, 6, 10, 12]\n"
     ]
    }
   ],
   "source": [
    "list1=[]\n",
    "print(\"Enter 10 numbers: \")\n",
    "for i in range(10):\n",
    "    i=int(input())\n",
    "    if i%2==0:\n",
    "        list1.append(i)\n",
    "    else:\n",
    "        pass\n",
    "print(list1)"
   ]
  },
  {
   "cell_type": "markdown",
   "metadata": {},
   "source": [
    "# Question 2"
   ]
  },
  {
   "cell_type": "code",
   "execution_count": 6,
   "metadata": {},
   "outputs": [
    {
     "name": "stdout",
     "output_type": "stream",
     "text": [
      "[1, 2, 3, 4, 5]\n",
      "['L', 'e', 't', 's', ' ', 'U', 'p', 'g', 'r', 'a', 'd', 'e']\n",
      "[0, 2, 4, 6, 8, 10, 12, 14, 16, 18]\n",
      "[(1, 1.1), (1, 2.2), (2, 1.1), (2, 2.2), (3, 1.1), (3, 2.2)]\n"
     ]
    }
   ],
   "source": [
    "# Format 1 for list comprehension :\n",
    "L = [x for x in range(1, 6)]\n",
    "print(L)\n",
    "\n",
    "# Format 2 for list comprehension :\n",
    "L = []\n",
    "for letter in 'Lets Upgrade':\n",
    "    L.append(letter)\n",
    "print(L)\n",
    "\n",
    "# Format 3 for list comprehension :\n",
    "L = [ x for x in range(20) if x % 2 == 0]\n",
    "print(L)\n",
    "\n",
    "# Format 4 for list comprehension :\n",
    "L = [(x, y) for x in range(1, 4) for y in [1.1, 2.2]]\n",
    "print(L)\n"
   ]
  },
  {
   "cell_type": "markdown",
   "metadata": {},
   "source": [
    "# Question 3"
   ]
  },
  {
   "cell_type": "code",
   "execution_count": 3,
   "metadata": {},
   "outputs": [
    {
     "name": "stdout",
     "output_type": "stream",
     "text": [
      "4\n",
      "{1: 1, 2: 4, 3: 9, 4: 16}\n"
     ]
    }
   ],
   "source": [
    "num=int(input(\"\"))\n",
    "dict1={}\n",
    "for i in range(1,num+1):\n",
    "    dict1.update({i:i*i})\n",
    "print(dict1)"
   ]
  },
  {
   "cell_type": "markdown",
   "metadata": {},
   "source": [
    "# Question 4"
   ]
  },
  {
   "cell_type": "code",
   "execution_count": 1,
   "metadata": {},
   "outputs": [
    {
     "name": "stdout",
     "output_type": "stream",
     "text": [
      "Enter number of directions: 4\n",
      "Enter direction and steps (space separated):UP 5\n",
      "Enter direction and steps (space separated):DOWN 3\n",
      "Enter direction and steps (space separated):LEFT 3\n",
      "Enter direction and steps (space separated):RIGHT 2\n",
      "2\n"
     ]
    }
   ],
   "source": [
    "import math\n",
    "#Init vars\n",
    "pos=[0,0]\n",
    "moves={\"UP\":[0,1],\n",
    "       \"DOWN\":[0,-1],\n",
    "       \"LEFT\":[-1,0],\n",
    "       \"RIGHT\":[1,0]}\n",
    "\n",
    "num=int(input(\"Enter number of directions: \"))\n",
    "data=[]\n",
    "for i in range(num):\n",
    "    data.append(input(\"Enter direction and steps (space separated):\"))\n",
    "\n",
    "\n",
    "for inp in data:\n",
    "    parts=inp.split()    \n",
    "    mv=parts[0]\n",
    "    val=parts[1]\n",
    "    if mv in moves and val.isnumeric():\n",
    "        pos[0] += moves[mv][0]*int(val)\n",
    "        pos[1] += moves[mv][1]*int(val)\n",
    "\n",
    "distance=math.sqrt(pos[0]**2 + pos[1]**2)\n",
    "print(\"OUTPUT:\", round(distance))"
   ]
  },
  {
   "cell_type": "code",
   "execution_count": null,
   "metadata": {},
   "outputs": [],
   "source": []
  }
 ],
 "metadata": {
  "kernelspec": {
   "display_name": "Python 3",
   "language": "python",
   "name": "python3"
  },
  "language_info": {
   "codemirror_mode": {
    "name": "ipython",
    "version": 3
   },
   "file_extension": ".py",
   "mimetype": "text/x-python",
   "name": "python",
   "nbconvert_exporter": "python",
   "pygments_lexer": "ipython3",
   "version": "3.7.6"
  }
 },
 "nbformat": 4,
 "nbformat_minor": 4
}
